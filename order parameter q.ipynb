{
 "cells": [
  {
   "cell_type": "code",
   "execution_count": null,
   "id": "edf4815d",
   "metadata": {},
   "outputs": [],
   "source": [
    "def q_func(network):\n",
    "    \"\"\"\n",
    "    Calculates the structural order parameter 'q' for the network.\n",
    "\n",
    "    'q' is based on 2-star motifs, capturing the tendency of paths of length two\n",
    "    (i.e., i ← j → k) to align or anti-align, measuring network frustration or imbalance.\n",
    "\n",
    "    Parameters:\n",
    "    -----------\n",
    "    network : np.ndarray\n",
    "        A signed adjacency matrix.\n",
    "\n",
    "    Returns:\n",
    "    --------\n",
    "    float\n",
    "        Normalized q-value representing global structural balance.\n",
    "    \"\"\"\n",
    "\n",
    "    q_total = 0\n",
    "    q_abs_total = 0\n",
    "\n",
    "    n = len(network)\n",
    "\n",
    "    for i in range(n):\n",
    "        for j in range(n):\n",
    "            for k in range(n):\n",
    "                if j != k and network[j, i] * network[i, k] != 0:\n",
    "                    value = network[j, i] * network[i, k]\n",
    "                    q_total += value\n",
    "                    q_abs_total += abs(value)\n",
    "\n",
    "    if q_abs_total == 0:\n",
    "        return 0  # Avoid division by zero\n",
    "\n",
    "    return q_total / q_abs_total\n"
   ]
  }
 ],
 "metadata": {
  "language_info": {
   "name": "python"
  }
 },
 "nbformat": 4,
 "nbformat_minor": 5
}
