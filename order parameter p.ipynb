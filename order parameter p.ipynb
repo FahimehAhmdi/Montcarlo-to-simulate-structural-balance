{
 "cells": [
  {
   "cell_type": "code",
   "execution_count": null,
   "id": "09b2655d",
   "metadata": {},
   "outputs": [],
   "source": [
    "def mean_of_links(network):\n",
    "    \"\"\"\n",
    "    Computes the mean signed link value in a network,\n",
    "    normalized by the total link magnitude.\n",
    "\n",
    "    This serves as the statistical order parameter 'p'.\n",
    "\n",
    "    Parameters:\n",
    "    -----------\n",
    "    network : np.ndarray\n",
    "        A signed adjacency matrix.\n",
    "\n",
    "    Returns:\n",
    "    --------\n",
    "    float\n",
    "        Mean signed interaction strength (normalized).\n",
    "    \"\"\"\n",
    "\n",
    "    total_signed = 0\n",
    "    total_magnitude = 0\n",
    "\n",
    "    n = len(network)\n",
    "\n",
    "    for i in range(n):\n",
    "        for j in range(i + 1, n):  # Only upper triangle, i ≠ j\n",
    "            total_signed += network[i, j]\n",
    "            total_magnitude += abs(network[i, j])\n",
    "\n",
    "    if total_magnitude == 0:\n",
    "        return 0  # Avoid division by zero\n",
    "\n",
    "    return total_signed / total_magnitude\n"
   ]
  }
 ],
 "metadata": {
  "language_info": {
   "name": "python"
  }
 },
 "nbformat": 4,
 "nbformat_minor": 5
}
